{
  "nbformat": 4,
  "nbformat_minor": 0,
  "metadata": {
    "colab": {
      "name": "Copy of IMDB.ipynb",
      "provenance": [],
      "collapsed_sections": []
    },
    "kernelspec": {
      "name": "python3",
      "display_name": "Python 3"
    }
  },
  "cells": [
    {
      "cell_type": "code",
      "metadata": {
        "id": "GSVLV7xIwu4B",
        "outputId": "5ca48381-5417-41f8-cbc8-a48ee19b6691",
        "colab": {
          "base_uri": "https://localhost:8080/",
          "height": 338
        }
      },
      "source": [
        "!wget -O IMDB.csv --no-check-certificate \"https://docs.google.com/uc?export=download&id=1LSuaWB1tL-x_F7qkAL8gq3giVZEq5OHv\""
      ],
      "execution_count": null,
      "outputs": [
        {
          "output_type": "stream",
          "text": [
            "--2020-10-20 18:08:32--  https://docs.google.com/uc?export=download&id=1LSuaWB1tL-x_F7qkAL8gq3giVZEq5OHv\n",
            "Resolving docs.google.com (docs.google.com)... 108.177.112.113, 108.177.112.139, 108.177.112.101, ...\n",
            "Connecting to docs.google.com (docs.google.com)|108.177.112.113|:443... connected.\n",
            "HTTP request sent, awaiting response... 302 Moved Temporarily\n",
            "Location: https://doc-10-0k-docs.googleusercontent.com/docs/securesc/ha0ro937gcuc7l7deffksulhg5h7mbp1/c7sb1h2ej7e98cdpb4iudhfhpmas36l2/1603217250000/03223631635386730136/*/1LSuaWB1tL-x_F7qkAL8gq3giVZEq5OHv?e=download [following]\n",
            "Warning: wildcards not supported in HTTP.\n",
            "--2020-10-20 18:08:39--  https://doc-10-0k-docs.googleusercontent.com/docs/securesc/ha0ro937gcuc7l7deffksulhg5h7mbp1/c7sb1h2ej7e98cdpb4iudhfhpmas36l2/1603217250000/03223631635386730136/*/1LSuaWB1tL-x_F7qkAL8gq3giVZEq5OHv?e=download\n",
            "Resolving doc-10-0k-docs.googleusercontent.com (doc-10-0k-docs.googleusercontent.com)... 172.217.214.132, 2607:f8b0:4001:c05::84\n",
            "Connecting to doc-10-0k-docs.googleusercontent.com (doc-10-0k-docs.googleusercontent.com)|172.217.214.132|:443... connected.\n",
            "HTTP request sent, awaiting response... 200 OK\n",
            "Length: unspecified [text/csv]\n",
            "Saving to: ‘IMDB.csv’\n",
            "\n",
            "IMDB.csv                [   <=>              ]  63.14M   101MB/s    in 0.6s    \n",
            "\n",
            "2020-10-20 18:08:39 (101 MB/s) - ‘IMDB.csv’ saved [66212309]\n",
            "\n"
          ],
          "name": "stdout"
        }
      ]
    },
    {
      "cell_type": "code",
      "metadata": {
        "id": "bK6RAZx5447o",
        "outputId": "c5f90ef6-98db-40c8-8193-56cfb3b3b258",
        "colab": {
          "base_uri": "https://localhost:8080/",
          "height": 197
        }
      },
      "source": [
        "import pandas as pd \n",
        "df=pd.read_csv(\"IMDB.csv\")\n",
        "df.head(5)\n",
        "\n",
        "\n",
        "#positive.head()"
      ],
      "execution_count": null,
      "outputs": [
        {
          "output_type": "execute_result",
          "data": {
            "text/html": [
              "<div>\n",
              "<style scoped>\n",
              "    .dataframe tbody tr th:only-of-type {\n",
              "        vertical-align: middle;\n",
              "    }\n",
              "\n",
              "    .dataframe tbody tr th {\n",
              "        vertical-align: top;\n",
              "    }\n",
              "\n",
              "    .dataframe thead th {\n",
              "        text-align: right;\n",
              "    }\n",
              "</style>\n",
              "<table border=\"1\" class=\"dataframe\">\n",
              "  <thead>\n",
              "    <tr style=\"text-align: right;\">\n",
              "      <th></th>\n",
              "      <th>review</th>\n",
              "      <th>sentiment</th>\n",
              "    </tr>\n",
              "  </thead>\n",
              "  <tbody>\n",
              "    <tr>\n",
              "      <th>0</th>\n",
              "      <td>One of the other reviewers has mentioned that ...</td>\n",
              "      <td>positive</td>\n",
              "    </tr>\n",
              "    <tr>\n",
              "      <th>1</th>\n",
              "      <td>A wonderful little production. &lt;br /&gt;&lt;br /&gt;The...</td>\n",
              "      <td>positive</td>\n",
              "    </tr>\n",
              "    <tr>\n",
              "      <th>2</th>\n",
              "      <td>I thought this was a wonderful way to spend ti...</td>\n",
              "      <td>positive</td>\n",
              "    </tr>\n",
              "    <tr>\n",
              "      <th>3</th>\n",
              "      <td>Basically there's a family where a little boy ...</td>\n",
              "      <td>negative</td>\n",
              "    </tr>\n",
              "    <tr>\n",
              "      <th>4</th>\n",
              "      <td>Petter Mattei's \"Love in the Time of Money\" is...</td>\n",
              "      <td>positive</td>\n",
              "    </tr>\n",
              "  </tbody>\n",
              "</table>\n",
              "</div>"
            ],
            "text/plain": [
              "                                              review sentiment\n",
              "0  One of the other reviewers has mentioned that ...  positive\n",
              "1  A wonderful little production. <br /><br />The...  positive\n",
              "2  I thought this was a wonderful way to spend ti...  positive\n",
              "3  Basically there's a family where a little boy ...  negative\n",
              "4  Petter Mattei's \"Love in the Time of Money\" is...  positive"
            ]
          },
          "metadata": {
            "tags": []
          },
          "execution_count": 43
        }
      ]
    },
    {
      "cell_type": "code",
      "metadata": {
        "id": "4AhZ-g7xVZqT",
        "outputId": "1d329f84-6e1d-4723-b3ae-8fd4a04f6531",
        "colab": {
          "base_uri": "https://localhost:8080/",
          "height": 107
        }
      },
      "source": [
        "positive =df['sentiment']=='positive'\n",
        "positiverows=df[positive]\n",
        "positiverows.head(2)"
      ],
      "execution_count": null,
      "outputs": [
        {
          "output_type": "execute_result",
          "data": {
            "text/html": [
              "<div>\n",
              "<style scoped>\n",
              "    .dataframe tbody tr th:only-of-type {\n",
              "        vertical-align: middle;\n",
              "    }\n",
              "\n",
              "    .dataframe tbody tr th {\n",
              "        vertical-align: top;\n",
              "    }\n",
              "\n",
              "    .dataframe thead th {\n",
              "        text-align: right;\n",
              "    }\n",
              "</style>\n",
              "<table border=\"1\" class=\"dataframe\">\n",
              "  <thead>\n",
              "    <tr style=\"text-align: right;\">\n",
              "      <th></th>\n",
              "      <th>review</th>\n",
              "      <th>sentiment</th>\n",
              "    </tr>\n",
              "  </thead>\n",
              "  <tbody>\n",
              "    <tr>\n",
              "      <th>0</th>\n",
              "      <td>One of the other reviewers has mentioned that ...</td>\n",
              "      <td>positive</td>\n",
              "    </tr>\n",
              "    <tr>\n",
              "      <th>1</th>\n",
              "      <td>A wonderful little production. &lt;br /&gt;&lt;br /&gt;The...</td>\n",
              "      <td>positive</td>\n",
              "    </tr>\n",
              "  </tbody>\n",
              "</table>\n",
              "</div>"
            ],
            "text/plain": [
              "                                              review sentiment\n",
              "0  One of the other reviewers has mentioned that ...  positive\n",
              "1  A wonderful little production. <br /><br />The...  positive"
            ]
          },
          "metadata": {
            "tags": []
          },
          "execution_count": 44
        }
      ]
    },
    {
      "cell_type": "code",
      "metadata": {
        "id": "qKR7VnYzVeRr",
        "outputId": "3536114c-1c39-4ca5-9ff2-f52bd79c34b8",
        "colab": {
          "base_uri": "https://localhost:8080/",
          "height": 107
        }
      },
      "source": [
        "positive =df['sentiment']=='negative'\n",
        "positiverows=df[positive]\n",
        "positiverows.head(2)"
      ],
      "execution_count": null,
      "outputs": [
        {
          "output_type": "execute_result",
          "data": {
            "text/html": [
              "<div>\n",
              "<style scoped>\n",
              "    .dataframe tbody tr th:only-of-type {\n",
              "        vertical-align: middle;\n",
              "    }\n",
              "\n",
              "    .dataframe tbody tr th {\n",
              "        vertical-align: top;\n",
              "    }\n",
              "\n",
              "    .dataframe thead th {\n",
              "        text-align: right;\n",
              "    }\n",
              "</style>\n",
              "<table border=\"1\" class=\"dataframe\">\n",
              "  <thead>\n",
              "    <tr style=\"text-align: right;\">\n",
              "      <th></th>\n",
              "      <th>review</th>\n",
              "      <th>sentiment</th>\n",
              "    </tr>\n",
              "  </thead>\n",
              "  <tbody>\n",
              "    <tr>\n",
              "      <th>3</th>\n",
              "      <td>Basically there's a family where a little boy ...</td>\n",
              "      <td>negative</td>\n",
              "    </tr>\n",
              "    <tr>\n",
              "      <th>7</th>\n",
              "      <td>This show was an amazing, fresh &amp; innovative i...</td>\n",
              "      <td>negative</td>\n",
              "    </tr>\n",
              "  </tbody>\n",
              "</table>\n",
              "</div>"
            ],
            "text/plain": [
              "                                              review sentiment\n",
              "3  Basically there's a family where a little boy ...  negative\n",
              "7  This show was an amazing, fresh & innovative i...  negative"
            ]
          },
          "metadata": {
            "tags": []
          },
          "execution_count": 45
        }
      ]
    },
    {
      "cell_type": "code",
      "metadata": {
        "id": "dGtjsEH1aD9S",
        "outputId": "591e6328-34b2-4a74-dedf-cec3644c4170",
        "colab": {
          "base_uri": "https://localhost:8080/",
          "height": 316
        }
      },
      "source": [
        "valuecounts=df['sentiment'].value_counts()\n",
        "valuecounts.head()\n",
        "valuecounts.plot(kind='bar')"
      ],
      "execution_count": null,
      "outputs": [
        {
          "output_type": "execute_result",
          "data": {
            "text/plain": [
              "<matplotlib.axes._subplots.AxesSubplot at 0x7fca88092e10>"
            ]
          },
          "metadata": {
            "tags": []
          },
          "execution_count": 46
        },
        {
          "output_type": "display_data",
          "data": {
            "image/png": "[encoded data removed]",
            "text/plain": [
              "<Figure size 432x288 with 1 Axes>"
            ]
          },
          "metadata": {
            "tags": [],
            "needs_background": "light"
          }
        }
      ]
    },
    {
      "cell_type": "code",
      "metadata": {
        "id": "Kz4WeqdakWET"
      },
      "source": [
        "from sklearn.model_selection import train_test_split\n",
        "from nltk.corpus import stopwords\n",
        "from keras.preprocessing.text import Tokenizer\n",
        "from keras.preprocessing.sequence import pad_sequences\n",
        "from keras.utils.np_utils import to_categorical\n",
        "from sklearn.preprocessing import LabelEncoder\n",
        "\n",
        "\n",
        "NB_WORDS = 10000  # Parameter indicating the number of words we'll put in the dictionary\n",
        "VAL_SIZE = 1000  # Size of the validation set\n",
        "NB_START_EPOCHS = 20  # Number of epochs we usually start to train with\n",
        "BATCH_SIZE = 128  # Size of the batches used in the mini-batch gradient descent\n",
        "MAX_LEN = 128  # Maximum number of words in a sequence\n"
      ],
      "execution_count": null,
      "outputs": []
    },
    {
      "cell_type": "code",
      "metadata": {
        "id": "SXQwwALCk03Z"
      },
      "source": [
        "def deep_model(model, X_train, y_train, X_valid, y_valid):\n",
        "    '''\n",
        "    Function to train a multi-class model. The number of epochs and \n",
        "    batch_size are set by the constants at the top of the\n",
        "    notebook. \n",
        "    \n",
        "    Parameters:\n",
        "        model : model with the chosen architecture\n",
        "        X_train : training features\n",
        "        y_train : training target\n",
        "        X_valid : validation features\n",
        "        Y_valid : validation target\n",
        "    Output:\n",
        "        model training history\n",
        "    '''\n",
        "    model.compile(optimizer='rmsprop'\n",
        "                  , loss='categorical_crossentropy'\n",
        "                  , metrics=['accuracy'])\n",
        "    \n",
        "    history = model.fit(X_train\n",
        "                       , y_train\n",
        "                       , epochs=NB_START_EPOCHS\n",
        "                       , batch_size=BATCH_SIZE\n",
        "                       , validation_data=(X_valid, y_valid)\n",
        "                       , verbose=1)\n",
        "    return history\n",
        "\n",
        "\n",
        "\n",
        "\n",
        "def test_model(model, X_train, y_train, X_test, y_test, epoch_stop):\n",
        "    '''\n",
        "    Function to test the model on new data after training it\n",
        "    on the full training data with the optimal number of epochs.\n",
        "    \n",
        "    Parameters:\n",
        "        model : trained model\n",
        "        X_train : training features\n",
        "        y_train : training target\n",
        "        X_test : test features\n",
        "        y_test : test target\n",
        "        epochs : optimal number of epochs\n",
        "    Output:\n",
        "        test accuracy and test loss\n",
        "    '''\n",
        "    model.fit(X_train\n",
        "              , y_train\n",
        "              , epochs=epoch_stop\n",
        "              , batch_size=BATCH_SIZE\n",
        "              , verbose=0)\n",
        "    results = model.evaluate(X_test, y_test)\n",
        "    \n",
        "    return results\n",
        "\n",
        "def remove_stopwords(input_text):\n",
        "    '''\n",
        "    Function to remove English stopwords from a Pandas Series.\n",
        "    \n",
        "    Parameters:\n",
        "        input_text : text to clean\n",
        "    Output:\n",
        "        cleaned Pandas Series \n",
        "    '''\n",
        "    stopwords_list = stopwords.words('english')\n",
        "    # Some words which might indicate a certain sentiment are kept via a whitelist\n",
        "    whitelist = [\"n't\", \"not\", \"no\"]\n",
        "    input_text=cleanhtml(input_text)\n",
        "    words = input_text.split() \n",
        "    clean_words = [word for word in words if (word not in stopwords_list or word in whitelist) and len(word) > 1] \n",
        "    return \" \".join(clean_words) \n",
        "\n",
        "import re\n",
        "\n",
        "def cleanhtml(raw_html):\n",
        "  cleanr = re.compile('<.*?>')\n",
        "  cleantext = re.sub(cleanr, '', raw_html)\n",
        "  return str(cleantext)\n",
        "    \n",
        "\n"
      ],
      "execution_count": null,
      "outputs": []
    },
    {
      "cell_type": "code",
      "metadata": {
        "id": "Jk1WMqaImpt6",
        "outputId": "ccef2bbe-d153-4db7-e880-83ae626e32b5",
        "colab": {
          "base_uri": "https://localhost:8080/",
          "height": 52
        }
      },
      "source": [
        "import nltk\n",
        "nltk.download('stopwords')\n",
        "import numpy as np\n",
        "\n",
        "\n",
        "df = df.reindex(np.random.permutation(df.index))  \n",
        "df = df[['review', 'sentiment']]\n",
        "df.review = df.review.apply(remove_stopwords)"
      ],
      "execution_count": null,
      "outputs": [
        {
          "output_type": "stream",
          "text": [
            "[nltk_data] Downloading package stopwords to /root/nltk_data...\n",
            "[nltk_data]   Package stopwords is already up-to-date!\n"
          ],
          "name": "stdout"
        }
      ]
    },
    {
      "cell_type": "code",
      "metadata": {
        "id": "BDfktjC7nN4t",
        "outputId": "b849fc3f-7f60-4c2d-cd0a-996c5a1a84af",
        "colab": {
          "base_uri": "https://localhost:8080/",
          "height": 52
        }
      },
      "source": [
        "X_train, X_test, y_train, y_test = train_test_split(df.review, df.sentiment, test_size=0.1, random_state=37)\n",
        "print('# Train data samples:', X_train.shape[0])\n",
        "print('# Test data samples:', X_test.shape[0])\n",
        "assert X_train.shape[0] == y_train.shape[0]\n",
        "assert X_test.shape[0] == y_test.shape[0]"
      ],
      "execution_count": null,
      "outputs": [
        {
          "output_type": "stream",
          "text": [
            "# Train data samples: 45000\n",
            "# Test data samples: 5000\n"
          ],
          "name": "stdout"
        }
      ]
    },
    {
      "cell_type": "code",
      "metadata": {
        "id": "T-2d1p9mnbGm",
        "outputId": "b8a8adfe-6311-4804-f69b-e39882e6db2b",
        "colab": {
          "base_uri": "https://localhost:8080/",
          "height": 34
        }
      },
      "source": [
        "tk = Tokenizer(num_words=NB_WORDS,\n",
        "               filters='!\"#$%&()*+,-./:;<=>?@[\\\\]^_`{|}~\\t\\n',\n",
        "               lower=True,\n",
        "               split=\" \")\n",
        "tk.fit_on_texts(X_train)\n",
        "\n",
        "X_train_seq = tk.texts_to_sequences(X_train)\n",
        "X_test_seq = tk.texts_to_sequences(X_test)\n",
        "len(X_train_seq)\n",
        "#X_test_seq[0]"
      ],
      "execution_count": null,
      "outputs": [
        {
          "output_type": "execute_result",
          "data": {
            "text/plain": [
              "45000"
            ]
          },
          "metadata": {
            "tags": []
          },
          "execution_count": 51
        }
      ]
    },
    {
      "cell_type": "code",
      "metadata": {
        "id": "ywB9SbEAnmFS",
        "outputId": "ab0e5507-668d-46e3-b6e0-0c89de2706e3",
        "colab": {
          "base_uri": "https://localhost:8080/",
          "height": 176
        }
      },
      "source": [
        "seq_lengths = X_train.apply(lambda x: len(x.split(' ')))\n",
        "seq_lengths.describe()"
      ],
      "execution_count": null,
      "outputs": [
        {
          "output_type": "execute_result",
          "data": {
            "text/plain": [
              "count    45000.000000\n",
              "mean       129.808244\n",
              "std         97.004738\n",
              "min          4.000000\n",
              "25%         70.000000\n",
              "50%         97.000000\n",
              "75%        158.000000\n",
              "max       1501.000000\n",
              "Name: review, dtype: float64"
            ]
          },
          "metadata": {
            "tags": []
          },
          "execution_count": 52
        }
      ]
    },
    {
      "cell_type": "code",
      "metadata": {
        "id": "fbY_cnxenyDY",
        "outputId": "ba54639e-35d3-45e0-b34b-74bdf74f17f3",
        "colab": {
          "base_uri": "https://localhost:8080/",
          "height": 230
        }
      },
      "source": [
        "X_train_seq_trunc = pad_sequences(X_train_seq,maxlen=MAX_LEN)\n",
        "X_test_seq_trunc = pad_sequences(X_test_seq,maxlen=MAX_LEN)\n",
        "X_train_seq_trunc[10]"
      ],
      "execution_count": null,
      "outputs": [
        {
          "output_type": "execute_result",
          "data": {
            "text/plain": [
              "array([   0,    0,    0,    0,    0,    0,    0,    0,    0,    0,    0,\n",
              "          0,    0,    0,    0,    0,    0,    0,    0,    0,    0,    0,\n",
              "          0,    0,    0,    0,    0,    0,    0,    0,    0,    0,    0,\n",
              "          0,    0,    0,    0,    0,    0,    0,    0,    0,    0,    0,\n",
              "          0,    0,    0,    0,    0,    0,    0,    0, 8545,   86, 1074,\n",
              "       6017,  489, 9197,   81, 2190, 1810, 1965,  955, 7216, 2155, 8545,\n",
              "        106,  681,   46,  192,  965, 6827, 3287,  283,  114, 1234,  582,\n",
              "        469,  560,   31, 5584,   40,  247, 4216,  548,  476,    3,  151,\n",
              "       3714, 3015,  558, 1857,  154,   33,   31,   21, 2117, 2020,   26,\n",
              "       1660, 2361,  126, 6294, 6530, 3594, 1242,  331,  517, 8545,  333,\n",
              "         64,  232,   25,  648,  151,  837,  246, 1922, 1934,  117,    3,\n",
              "         19,  608,   29, 4714,    4,  327, 1248], dtype=int32)"
            ]
          },
          "metadata": {
            "tags": []
          },
          "execution_count": 53
        }
      ]
    },
    {
      "cell_type": "code",
      "metadata": {
        "id": "_dJ559ZioWxC",
        "outputId": "28343d08-b837-4efb-c30d-df5bf99f0bac",
        "colab": {
          "base_uri": "https://localhost:8080/",
          "height": 52
        }
      },
      "source": [
        "le = LabelEncoder()\n",
        "y_train_le = le.fit_transform(y_train)\n",
        "y_test_le = le.transform(y_test)\n",
        "y_train_oh = to_categorical(y_train_le,num_classes=2)\n",
        "y_test_oh = to_categorical(y_test_le,num_classes=2)\n",
        "print(y_train_le[0])\n",
        "print(y_train[0])\n",
        "\n"
      ],
      "execution_count": null,
      "outputs": [
        {
          "output_type": "stream",
          "text": [
            "1\n",
            "positive\n"
          ],
          "name": "stdout"
        }
      ]
    },
    {
      "cell_type": "code",
      "metadata": {
        "id": "ml0d46ZUoc_7",
        "outputId": "8e143712-b0e9-41db-9537-c8bc1f63c0de",
        "colab": {
          "base_uri": "https://localhost:8080/",
          "height": 87
        }
      },
      "source": [
        "X_train_emb, X_valid_emb, y_train_emb, y_valid_emb = train_test_split(X_train_seq_trunc, y_train_oh, test_size=0.1, random_state=37)\n",
        "\n",
        "assert X_valid_emb.shape[0] == y_valid_emb.shape[0]\n",
        "assert X_train_emb.shape[0] == y_train_emb.shape[0]\n",
        "\n",
        "print('Shape of validation X set:',X_valid_emb.shape)\n",
        "print('Shape of validation Y set:',y_valid_emb.shape)\n",
        "print('Shape of train Y set:', y_train_emb.shape)\n",
        "print('Shape of train X set:', X_train_emb.shape)"
      ],
      "execution_count": null,
      "outputs": [
        {
          "output_type": "stream",
          "text": [
            "Shape of validation X set: (4500, 128)\n",
            "Shape of validation Y set: (4500, 2)\n",
            "Shape of train Y set: (40500, 2)\n",
            "Shape of train X set: (40500, 128)\n"
          ],
          "name": "stdout"
        }
      ]
    },
    {
      "cell_type": "code",
      "metadata": {
        "id": "2DBRMDK9ouaO",
        "outputId": "7d8c4f92-ea58-4875-febc-9b2d566d9d0c",
        "colab": {
          "base_uri": "https://localhost:8080/",
          "height": 1000
        }
      },
      "source": [
        "import tensorflow_hub as hub\n",
        "import tensorflow as tf\n",
        "from tensorflow.keras.models import Sequential\n",
        "from tensorflow.keras import layers\n",
        "from tensorflow.keras import regularizers\n",
        "from tensorflow.keras import optimizers\n",
        "#from keras import models\n",
        "#from keras import layers\n",
        "#from keras import regularizers\n",
        "\n",
        "hub_layer = hub.KerasLayer(\"https://tfhub.dev/google/nnlm-en-dim128/2\",\n",
        "                           input_shape=[] ,dtype=tf.string,trainable=True)\n",
        "\n",
        "hub_layer(X_train)\n",
        "\n",
        "emb_model = Sequential()\n",
        "\n",
        "emb_model.add(layers.Embedding(NB_WORDS,4, input_length=MAX_LEN))\n",
        "emb_model.add(layers.Flatten())\n",
        "emb_model.add(layers.Dropout(0.3))\n",
        "emb_model.add(layers.Dense(16, activation = 'relu',kernel_regularizer = regularizers.l2(0.001)))\n",
        "#emb_model.add(layers.Dropout(0.2))\n",
        "#emb_model.add(layers.Dense(16, activation = 'relu',kernel_regularizer = regularizers.l2(0.001)))\n",
        "emb_model.add(layers.Dense(8, activation = 'relu',kernel_regularizer = regularizers.l2(0.001)))\n",
        "emb_model.add(layers.Dense(2, activation='softmax'))\n",
        "emb_model.compile(optimizer=optimizers.RMSprop(learning_rate=0.001,momentum=0)\n",
        "                  , loss='categorical_crossentropy'\n",
        "                  , metrics=['accuracy'])\n",
        "import time\n",
        "start_time = time.time()\n",
        "    \n",
        "emb_history = emb_model.fit(X_train_emb\n",
        "                       , y_train_emb\n",
        "                       , epochs=NB_START_EPOCHS\n",
        "                       , batch_size=BATCH_SIZE\n",
        "                       , validation_data=(X_valid_emb, y_valid_emb)\n",
        "                       , verbose=1)\n",
        "end_time = time.time()\n",
        "#emb_history = deep_model(emb_model, X_train_emb, y_train_emb, X_valid_emb, y_valid_emb)\n",
        "\n",
        "\n",
        "emb_model.summary()"
      ],
      "execution_count": null,
      "outputs": [
        {
          "output_type": "stream",
          "text": [
            "WARNING:tensorflow:11 out of the last 11 calls to <function recreate_function.<locals>.restored_function_body at 0x7fcaa4651bf8> triggered tf.function retracing. Tracing is expensive and the excessive number of tracings could be due to (1) creating @tf.function repeatedly in a loop, (2) passing tensors with different shapes, (3) passing Python objects instead of tensors. For (1), please define your @tf.function outside of the loop. For (2), @tf.function has experimental_relax_shapes=True option that relaxes argument shapes that can avoid unnecessary retracing. For (3), please refer to https://www.tensorflow.org/tutorials/customization/performance#python_or_tensor_args and https://www.tensorflow.org/api_docs/python/tf/function for  more details.\n"
          ],
          "name": "stdout"
        },
        {
          "output_type": "stream",
          "text": [
            "WARNING:tensorflow:11 out of the last 11 calls to <function recreate_function.<locals>.restored_function_body at 0x7fcaa4651bf8> triggered tf.function retracing. Tracing is expensive and the excessive number of tracings could be due to (1) creating @tf.function repeatedly in a loop, (2) passing tensors with different shapes, (3) passing Python objects instead of tensors. For (1), please define your @tf.function outside of the loop. For (2), @tf.function has experimental_relax_shapes=True option that relaxes argument shapes that can avoid unnecessary retracing. For (3), please refer to https://www.tensorflow.org/tutorials/customization/performance#python_or_tensor_args and https://www.tensorflow.org/api_docs/python/tf/function for  more details.\n"
          ],
          "name": "stderr"
        },
        {
          "output_type": "stream",
          "text": [
            "WARNING:tensorflow:11 out of the last 11 calls to <function recreate_function.<locals>.restored_function_body at 0x7fcaa464c158> triggered tf.function retracing. Tracing is expensive and the excessive number of tracings could be due to (1) creating @tf.function repeatedly in a loop, (2) passing tensors with different shapes, (3) passing Python objects instead of tensors. For (1), please define your @tf.function outside of the loop. For (2), @tf.function has experimental_relax_shapes=True option that relaxes argument shapes that can avoid unnecessary retracing. For (3), please refer to https://www.tensorflow.org/tutorials/customization/performance#python_or_tensor_args and https://www.tensorflow.org/api_docs/python/tf/function for  more details.\n"
          ],
          "name": "stdout"
        },
        {
          "output_type": "stream",
          "text": [
            "WARNING:tensorflow:11 out of the last 11 calls to <function recreate_function.<locals>.restored_function_body at 0x7fcaa464c158> triggered tf.function retracing. Tracing is expensive and the excessive number of tracings could be due to (1) creating @tf.function repeatedly in a loop, (2) passing tensors with different shapes, (3) passing Python objects instead of tensors. For (1), please define your @tf.function outside of the loop. For (2), @tf.function has experimental_relax_shapes=True option that relaxes argument shapes that can avoid unnecessary retracing. For (3), please refer to https://www.tensorflow.org/tutorials/customization/performance#python_or_tensor_args and https://www.tensorflow.org/api_docs/python/tf/function for  more details.\n"
          ],
          "name": "stderr"
        },
        {
          "output_type": "stream",
          "text": [
            "WARNING:tensorflow:11 out of the last 11 calls to <function recreate_function.<locals>.restored_function_body at 0x7fca9a8fab70> triggered tf.function retracing. Tracing is expensive and the excessive number of tracings could be due to (1) creating @tf.function repeatedly in a loop, (2) passing tensors with different shapes, (3) passing Python objects instead of tensors. For (1), please define your @tf.function outside of the loop. For (2), @tf.function has experimental_relax_shapes=True option that relaxes argument shapes that can avoid unnecessary retracing. For (3), please refer to https://www.tensorflow.org/tutorials/customization/performance#python_or_tensor_args and https://www.tensorflow.org/api_docs/python/tf/function for  more details.\n"
          ],
          "name": "stdout"
        },
        {
          "output_type": "stream",
          "text": [
            "WARNING:tensorflow:11 out of the last 11 calls to <function recreate_function.<locals>.restored_function_body at 0x7fca9a8fab70> triggered tf.function retracing. Tracing is expensive and the excessive number of tracings could be due to (1) creating @tf.function repeatedly in a loop, (2) passing tensors with different shapes, (3) passing Python objects instead of tensors. For (1), please define your @tf.function outside of the loop. For (2), @tf.function has experimental_relax_shapes=True option that relaxes argument shapes that can avoid unnecessary retracing. For (3), please refer to https://www.tensorflow.org/tutorials/customization/performance#python_or_tensor_args and https://www.tensorflow.org/api_docs/python/tf/function for  more details.\n"
          ],
          "name": "stderr"
        },
        {
          "output_type": "stream",
          "text": [
            "Epoch 1/20\n",
            "317/317 [==============================] - 1s 5ms/step - loss: 0.5654 - accuracy: 0.7203 - val_loss: 0.3528 - val_accuracy: 0.8631\n",
            "Epoch 2/20\n",
            "317/317 [==============================] - 1s 4ms/step - loss: 0.3064 - accuracy: 0.8832 - val_loss: 0.2887 - val_accuracy: 0.8924\n",
            "Epoch 3/20\n",
            "317/317 [==============================] - 1s 4ms/step - loss: 0.2627 - accuracy: 0.9029 - val_loss: 0.2876 - val_accuracy: 0.8904\n",
            "Epoch 4/20\n",
            "317/317 [==============================] - 1s 4ms/step - loss: 0.2396 - accuracy: 0.9132 - val_loss: 0.2811 - val_accuracy: 0.8909\n",
            "Epoch 5/20\n",
            "317/317 [==============================] - 1s 4ms/step - loss: 0.2264 - accuracy: 0.9177 - val_loss: 0.2825 - val_accuracy: 0.8882\n",
            "Epoch 6/20\n",
            "317/317 [==============================] - 1s 4ms/step - loss: 0.2147 - accuracy: 0.9240 - val_loss: 0.2855 - val_accuracy: 0.8884\n",
            "Epoch 7/20\n",
            "317/317 [==============================] - 1s 4ms/step - loss: 0.2068 - accuracy: 0.9266 - val_loss: 0.2898 - val_accuracy: 0.8887\n",
            "Epoch 8/20\n",
            "317/317 [==============================] - 1s 4ms/step - loss: 0.1971 - accuracy: 0.9304 - val_loss: 0.2937 - val_accuracy: 0.8871\n",
            "Epoch 9/20\n",
            "317/317 [==============================] - 1s 4ms/step - loss: 0.1914 - accuracy: 0.9335 - val_loss: 0.2895 - val_accuracy: 0.8882\n",
            "Epoch 10/20\n",
            "317/317 [==============================] - 1s 4ms/step - loss: 0.1831 - accuracy: 0.9358 - val_loss: 0.2956 - val_accuracy: 0.8847\n",
            "Epoch 11/20\n",
            "317/317 [==============================] - 1s 4ms/step - loss: 0.1769 - accuracy: 0.9391 - val_loss: 0.2979 - val_accuracy: 0.8862\n",
            "Epoch 12/20\n",
            "317/317 [==============================] - 1s 4ms/step - loss: 0.1742 - accuracy: 0.9400 - val_loss: 0.3036 - val_accuracy: 0.8833\n",
            "Epoch 13/20\n",
            "317/317 [==============================] - 1s 4ms/step - loss: 0.1651 - accuracy: 0.9426 - val_loss: 0.3040 - val_accuracy: 0.8862\n",
            "Epoch 14/20\n",
            "317/317 [==============================] - 1s 4ms/step - loss: 0.1617 - accuracy: 0.9443 - val_loss: 0.3082 - val_accuracy: 0.8844\n",
            "Epoch 15/20\n",
            "317/317 [==============================] - 1s 4ms/step - loss: 0.1577 - accuracy: 0.9459 - val_loss: 0.3179 - val_accuracy: 0.8827\n",
            "Epoch 16/20\n",
            "317/317 [==============================] - 1s 4ms/step - loss: 0.1530 - accuracy: 0.9474 - val_loss: 0.3184 - val_accuracy: 0.8793\n",
            "Epoch 17/20\n",
            "317/317 [==============================] - 1s 4ms/step - loss: 0.1513 - accuracy: 0.9483 - val_loss: 0.3236 - val_accuracy: 0.8796\n",
            "Epoch 18/20\n",
            "317/317 [==============================] - 1s 4ms/step - loss: 0.1422 - accuracy: 0.9527 - val_loss: 0.3302 - val_accuracy: 0.8822\n",
            "Epoch 19/20\n",
            "317/317 [==============================] - 1s 4ms/step - loss: 0.1428 - accuracy: 0.9515 - val_loss: 0.3325 - val_accuracy: 0.8840\n",
            "Epoch 20/20\n",
            "317/317 [==============================] - 1s 4ms/step - loss: 0.1385 - accuracy: 0.9536 - val_loss: 0.3315 - val_accuracy: 0.8809\n",
            "Model: \"sequential_7\"\n",
            "_________________________________________________________________\n",
            "Layer (type)                 Output Shape              Param #   \n",
            "=================================================================\n",
            "embedding_7 (Embedding)      (None, 128, 4)            40000     \n",
            "_________________________________________________________________\n",
            "flatten_7 (Flatten)          (None, 512)               0         \n",
            "_________________________________________________________________\n",
            "dropout_6 (Dropout)          (None, 512)               0         \n",
            "_________________________________________________________________\n",
            "dense_17 (Dense)             (None, 16)                8208      \n",
            "_________________________________________________________________\n",
            "dense_18 (Dense)             (None, 8)                 136       \n",
            "_________________________________________________________________\n",
            "dense_19 (Dense)             (None, 2)                 18        \n",
            "=================================================================\n",
            "Total params: 48,362\n",
            "Trainable params: 48,362\n",
            "Non-trainable params: 0\n",
            "_________________________________________________________________\n"
          ],
          "name": "stdout"
        }
      ]
    },
    {
      "cell_type": "code",
      "metadata": {
        "id": "JcsYfB8exEYc",
        "outputId": "4132e4d2-23b3-47c2-af39-1a99e0b1b026",
        "colab": {
          "base_uri": "https://localhost:8080/",
          "height": 34
        }
      },
      "source": [
        "\n",
        "time_taken =  end_time - start_time\n",
        "print(\"time_taken to train model :\", time_taken, \"seconds\")"
      ],
      "execution_count": null,
      "outputs": [
        {
          "output_type": "stream",
          "text": [
            "time_taken to train model : 26.623287200927734 seconds\n"
          ],
          "name": "stdout"
        }
      ]
    },
    {
      "cell_type": "markdown",
      "metadata": {
        "id": "0YFBpVRuqmK-"
      },
      "source": [
        "Hidden units were decided after trial and error basis, inclusion or reduction did not boost model performance . \n",
        "L2 regularization is added to all layers\n",
        "Dropout is added to the layer before relu activation to filter out unwanted properties. 0.30 value is added to force the output to be zero is the change is 30%\n",
        "Hidden layers use Relu function and Output layer uses softmax as the output is a probability"
      ]
    },
    {
      "cell_type": "code",
      "metadata": {
        "id": "ReqDebJsM8rG",
        "outputId": "96774f7f-6d79-445e-993d-377dbb845ee7",
        "colab": {
          "base_uri": "https://localhost:8080/",
          "height": 70
        }
      },
      "source": [
        "emb_results = test_model(emb_model, X_train_seq_trunc, y_train_oh, X_test_seq_trunc, y_test_oh, 6)\n",
        "print('/n')\n",
        "print('Test accuracy of word embeddings model: {0:.2f}%'.format(emb_results[1]*100))"
      ],
      "execution_count": null,
      "outputs": [
        {
          "output_type": "stream",
          "text": [
            "157/157 [==============================] - 0s 1ms/step - loss: 0.3305 - accuracy: 0.8838\n",
            "/n\n",
            "Test accuracy of word embeddings model: 88.38%\n"
          ],
          "name": "stdout"
        }
      ]
    },
    {
      "cell_type": "code",
      "metadata": {
        "id": "1lbBYSl0c9ZH",
        "outputId": "5d3483be-b214-4b5e-b483-ef18a2d0b064",
        "colab": {
          "base_uri": "https://localhost:8080/",
          "height": 264
        }
      },
      "source": [
        "\n",
        "import matplotlib.pyplot as plt\n",
        "def eval_metric(history, metric_name):\n",
        "    '''\n",
        "    Function to evaluate a trained model on a chosen metric. \n",
        "    Training and validation metric are plotted in a\n",
        "    line chart for each epoch.\n",
        "    \n",
        "    Parameters:\n",
        "        history : model training history\n",
        "        metric_name : loss or accuracy\n",
        "    Output:\n",
        "        line chart with epochs of x-axis and metric on\n",
        "        y-axis\n",
        "    '''\n",
        "    metric = history.history[metric_name]\n",
        "    val_metric = history.history['val_' + metric_name]\n",
        "\n",
        "    e = range(1, NB_START_EPOCHS + 1)\n",
        "\n",
        "    plt.plot(e, metric, 'bo', label='Train ' + metric_name)\n",
        "    plt.plot(e, val_metric, 'b', label='Validation ' + metric_name)\n",
        "    plt.legend()\n",
        "    plt.show()\n",
        "\n",
        "eval_metric(emb_history, 'accuracy')"
      ],
      "execution_count": null,
      "outputs": [
        {
          "output_type": "display_data",
          "data": {
            "image/png": "[encoded data removed]",
            "text/plain": [
              "<Figure size 432x288 with 1 Axes>"
            ]
          },
          "metadata": {
            "tags": [],
            "needs_background": "light"
          }
        }
      ]
    },
    {
      "cell_type": "code",
      "metadata": {
        "id": "lzoDZ4OHePrj",
        "outputId": "9a3c34fb-be26-4053-a3d1-467523473da4",
        "colab": {
          "base_uri": "https://localhost:8080/",
          "height": 264
        }
      },
      "source": [
        "eval_metric(emb_history, 'loss')"
      ],
      "execution_count": null,
      "outputs": [
        {
          "output_type": "display_data",
          "data": {
            "image/png": "[encoded data removed]",
            "text/plain": [
              "<Figure size 432x288 with 1 Axes>"
            ]
          },
          "metadata": {
            "tags": [],
            "needs_background": "light"
          }
        }
      ]
    },
    {
      "cell_type": "code",
      "metadata": {
        "id": "QEN7SNwl0Og-",
        "outputId": "650b1a2d-5ec8-47e5-deba-0aba49af6dc0",
        "colab": {
          "base_uri": "https://localhost:8080/",
          "height": 52
        }
      },
      "source": [
        "from sklearn.metrics import confusion_matrix\n",
        "import numpy as np\n",
        "\n",
        "preds=np.argmax(emb_model.predict(X_test_seq_trunc),axis=-1)\n",
        "#print(preds)\n",
        "#print(y_test_le)\n",
        "cf_matrix =confusion_matrix(y_test_le,preds)\n",
        "print(cf_matrix)"
      ],
      "execution_count": null,
      "outputs": [
        {
          "output_type": "stream",
          "text": [
            "[[2254  295]\n",
            " [ 286 2165]]\n"
          ],
          "name": "stdout"
        }
      ]
    },
    {
      "cell_type": "code",
      "metadata": {
        "id": "CZXWa0E2bwRQ",
        "outputId": "a883efb8-7ac2-495c-ad13-606e1d8a9466",
        "colab": {
          "base_uri": "https://localhost:8080/",
          "height": 286
        }
      },
      "source": [
        "import seaborn as sns\n",
        "#sns.heatmap(cf_matrix, annot=True)\n",
        "labels = ['True Neg','False Pos','False Neg','True Pos']\n",
        "labels = np.asarray(labels).reshape(2,2)\n",
        "sns.heatmap(cf_matrix, annot=labels, fmt='', cmap='Blues')"
      ],
      "execution_count": null,
      "outputs": [
        {
          "output_type": "execute_result",
          "data": {
            "text/plain": [
              "<matplotlib.axes._subplots.AxesSubplot at 0x7fcaa48b3e80>"
            ]
          },
          "metadata": {
            "tags": []
          },
          "execution_count": 62
        },
        {
          "output_type": "display_data",
          "data": {
            "image/png": "[encoded data removed]",
            "text/plain": [
              "<Figure size 432x288 with 2 Axes>"
            ]
          },
          "metadata": {
            "tags": [],
            "needs_background": "light"
          }
        }
      ]
    },
    {
      "cell_type": "code",
      "metadata": {
        "id": "LeBX_Xtpr9pH",
        "outputId": "686594c6-75dd-4889-e370-6e996cdb4e0c",
        "colab": {
          "base_uri": "https://localhost:8080/",
          "height": 176
        }
      },
      "source": [
        "from sklearn.metrics import classification_report\n",
        "print(classification_report(y_true= y_test_le, y_pred=preds))"
      ],
      "execution_count": null,
      "outputs": [
        {
          "output_type": "stream",
          "text": [
            "              precision    recall  f1-score   support\n",
            "\n",
            "           0       0.89      0.88      0.89      2549\n",
            "           1       0.88      0.88      0.88      2451\n",
            "\n",
            "    accuracy                           0.88      5000\n",
            "   macro avg       0.88      0.88      0.88      5000\n",
            "weighted avg       0.88      0.88      0.88      5000\n",
            "\n"
          ],
          "name": "stdout"
        }
      ]
    },
    {
      "cell_type": "markdown",
      "metadata": {
        "id": "UKrGWvF7tPBT"
      },
      "source": [
        "Both the classes (0-> positive and 1-negetive) are approximately equally classified and missclassified .It might be due to ambiguous statements in the data . "
      ]
    },
    {
      "cell_type": "markdown",
      "metadata": {
        "id": "MFps5OKzto7P"
      },
      "source": [
        "**HYPERPARAMATER TUNING **"
      ]
    },
    {
      "cell_type": "code",
      "metadata": {
        "id": "DPVFJaADi00s",
        "outputId": "3807bd43-d5a7-4493-f314-fb496937c43c",
        "colab": {
          "base_uri": "https://localhost:8080/",
          "height": 1000
        }
      },
      "source": [
        "## CHANGED BATCH SIZE->64 IN THIS HYPERPARAMETER TUNING\n",
        "\n",
        "import tensorflow_hub as hub\n",
        "import tensorflow as tf\n",
        "from tensorflow.keras.models import Sequential\n",
        "from tensorflow.keras import layers\n",
        "from tensorflow.keras import regularizers\n",
        "#from keras import models\n",
        "#from keras import layers\n",
        "#from keras import regularizers\n",
        "\n",
        "\n",
        "\n",
        "emb_model = Sequential()\n",
        "\n",
        "emb_model.add(layers.Embedding(NB_WORDS,4, input_length=MAX_LEN))\n",
        "emb_model.add(layers.Flatten())\n",
        "emb_model.add(layers.Dropout(0.3))\n",
        "emb_model.add(layers.Dense(16, activation = 'relu',kernel_regularizer = regularizers.l2(0.001)))\n",
        "#emb_model.add(layers.Dropout(0.2))\n",
        "#emb_model.add(layers.Dense(30, activation = 'relu',kernel_regularizer = regularizers.l2(0.001)))\n",
        "emb_model.add(layers.Dense(8, activation = 'relu',kernel_regularizer = regularizers.l2(0.001)))\n",
        "emb_model.add(layers.Dense(2, activation='softmax'))\n",
        "emb_model.compile(optimizer=optimizers.RMSprop(learning_rate=0.001,momentum=0)\n",
        "                  , loss='categorical_crossentropy'\n",
        "                  , metrics=['accuracy'])\n",
        "import time\n",
        "start_time = time.time()\n",
        "    \n",
        "emb_history = emb_model.fit(X_train_emb\n",
        "                       , y_train_emb\n",
        "                       , epochs=NB_START_EPOCHS\n",
        "                       , batch_size=64\n",
        "                       , validation_data=(X_valid_emb, y_valid_emb)\n",
        "                       , verbose=1)\n",
        "end_time = time.time()\n",
        "#emb_history = deep_model(emb_model, X_train_emb, y_train_emb, X_valid_emb, y_valid_emb)\n",
        "\n",
        "\n",
        "emb_model.summary()\n"
      ],
      "execution_count": null,
      "outputs": [
        {
          "output_type": "stream",
          "text": [
            "Epoch 1/20\n",
            "WARNING:tensorflow:11 out of the last 11 calls to <function recreate_function.<locals>.restored_function_body at 0x7fca88989620> triggered tf.function retracing. Tracing is expensive and the excessive number of tracings could be due to (1) creating @tf.function repeatedly in a loop, (2) passing tensors with different shapes, (3) passing Python objects instead of tensors. For (1), please define your @tf.function outside of the loop. For (2), @tf.function has experimental_relax_shapes=True option that relaxes argument shapes that can avoid unnecessary retracing. For (3), please refer to https://www.tensorflow.org/tutorials/customization/performance#python_or_tensor_args and https://www.tensorflow.org/api_docs/python/tf/function for  more details.\n"
          ],
          "name": "stdout"
        },
        {
          "output_type": "stream",
          "text": [
            "WARNING:tensorflow:11 out of the last 11 calls to <function recreate_function.<locals>.restored_function_body at 0x7fca88989620> triggered tf.function retracing. Tracing is expensive and the excessive number of tracings could be due to (1) creating @tf.function repeatedly in a loop, (2) passing tensors with different shapes, (3) passing Python objects instead of tensors. For (1), please define your @tf.function outside of the loop. For (2), @tf.function has experimental_relax_shapes=True option that relaxes argument shapes that can avoid unnecessary retracing. For (3), please refer to https://www.tensorflow.org/tutorials/customization/performance#python_or_tensor_args and https://www.tensorflow.org/api_docs/python/tf/function for  more details.\n"
          ],
          "name": "stderr"
        },
        {
          "output_type": "stream",
          "text": [
            "WARNING:tensorflow:11 out of the last 11 calls to <function recreate_function.<locals>.restored_function_body at 0x7fcaa3a15510> triggered tf.function retracing. Tracing is expensive and the excessive number of tracings could be due to (1) creating @tf.function repeatedly in a loop, (2) passing tensors with different shapes, (3) passing Python objects instead of tensors. For (1), please define your @tf.function outside of the loop. For (2), @tf.function has experimental_relax_shapes=True option that relaxes argument shapes that can avoid unnecessary retracing. For (3), please refer to https://www.tensorflow.org/tutorials/customization/performance#python_or_tensor_args and https://www.tensorflow.org/api_docs/python/tf/function for  more details.\n"
          ],
          "name": "stdout"
        },
        {
          "output_type": "stream",
          "text": [
            "WARNING:tensorflow:11 out of the last 11 calls to <function recreate_function.<locals>.restored_function_body at 0x7fcaa3a15510> triggered tf.function retracing. Tracing is expensive and the excessive number of tracings could be due to (1) creating @tf.function repeatedly in a loop, (2) passing tensors with different shapes, (3) passing Python objects instead of tensors. For (1), please define your @tf.function outside of the loop. For (2), @tf.function has experimental_relax_shapes=True option that relaxes argument shapes that can avoid unnecessary retracing. For (3), please refer to https://www.tensorflow.org/tutorials/customization/performance#python_or_tensor_args and https://www.tensorflow.org/api_docs/python/tf/function for  more details.\n"
          ],
          "name": "stderr"
        },
        {
          "output_type": "stream",
          "text": [
            "633/633 [==============================] - 2s 3ms/step - loss: 0.5056 - accuracy: 0.7492 - val_loss: 0.3144 - val_accuracy: 0.8776\n",
            "Epoch 2/20\n",
            "633/633 [==============================] - 2s 3ms/step - loss: 0.2947 - accuracy: 0.8867 - val_loss: 0.2834 - val_accuracy: 0.8893\n",
            "Epoch 3/20\n",
            "633/633 [==============================] - 2s 3ms/step - loss: 0.2562 - accuracy: 0.9038 - val_loss: 0.2806 - val_accuracy: 0.8931\n",
            "Epoch 4/20\n",
            "633/633 [==============================] - 2s 3ms/step - loss: 0.2329 - accuracy: 0.9160 - val_loss: 0.2844 - val_accuracy: 0.8907\n",
            "Epoch 5/20\n",
            "633/633 [==============================] - 2s 3ms/step - loss: 0.2183 - accuracy: 0.9221 - val_loss: 0.2870 - val_accuracy: 0.8900\n",
            "Epoch 6/20\n",
            "633/633 [==============================] - 2s 3ms/step - loss: 0.2084 - accuracy: 0.9257 - val_loss: 0.2926 - val_accuracy: 0.8898\n",
            "Epoch 7/20\n",
            "633/633 [==============================] - 2s 3ms/step - loss: 0.1977 - accuracy: 0.9299 - val_loss: 0.2972 - val_accuracy: 0.8864\n",
            "Epoch 8/20\n",
            "633/633 [==============================] - 2s 3ms/step - loss: 0.1904 - accuracy: 0.9313 - val_loss: 0.2986 - val_accuracy: 0.8876\n",
            "Epoch 9/20\n",
            "633/633 [==============================] - 2s 3ms/step - loss: 0.1846 - accuracy: 0.9340 - val_loss: 0.3044 - val_accuracy: 0.8873\n",
            "Epoch 10/20\n",
            "633/633 [==============================] - 2s 3ms/step - loss: 0.1774 - accuracy: 0.9378 - val_loss: 0.3117 - val_accuracy: 0.8804\n",
            "Epoch 11/20\n",
            "633/633 [==============================] - 2s 3ms/step - loss: 0.1739 - accuracy: 0.9384 - val_loss: 0.3112 - val_accuracy: 0.8838\n",
            "Epoch 12/20\n",
            "633/633 [==============================] - 2s 3ms/step - loss: 0.1675 - accuracy: 0.9411 - val_loss: 0.3227 - val_accuracy: 0.8784\n",
            "Epoch 13/20\n",
            "633/633 [==============================] - 2s 3ms/step - loss: 0.1644 - accuracy: 0.9425 - val_loss: 0.3172 - val_accuracy: 0.8782\n",
            "Epoch 14/20\n",
            "633/633 [==============================] - 2s 3ms/step - loss: 0.1609 - accuracy: 0.9432 - val_loss: 0.3213 - val_accuracy: 0.8847\n",
            "Epoch 15/20\n",
            "633/633 [==============================] - 2s 3ms/step - loss: 0.1577 - accuracy: 0.9447 - val_loss: 0.3237 - val_accuracy: 0.8816\n",
            "Epoch 16/20\n",
            "633/633 [==============================] - 2s 3ms/step - loss: 0.1560 - accuracy: 0.9447 - val_loss: 0.3285 - val_accuracy: 0.8791\n",
            "Epoch 17/20\n",
            "633/633 [==============================] - 2s 3ms/step - loss: 0.1512 - accuracy: 0.9472 - val_loss: 0.3286 - val_accuracy: 0.8769\n",
            "Epoch 18/20\n",
            "633/633 [==============================] - 2s 3ms/step - loss: 0.1492 - accuracy: 0.9479 - val_loss: 0.3296 - val_accuracy: 0.8764\n",
            "Epoch 19/20\n",
            "633/633 [==============================] - 2s 3ms/step - loss: 0.1496 - accuracy: 0.9482 - val_loss: 0.3348 - val_accuracy: 0.8769\n",
            "Epoch 20/20\n",
            "633/633 [==============================] - 2s 3ms/step - loss: 0.1443 - accuracy: 0.9499 - val_loss: 0.3357 - val_accuracy: 0.8771\n",
            "Model: \"sequential_8\"\n",
            "_________________________________________________________________\n",
            "Layer (type)                 Output Shape              Param #   \n",
            "=================================================================\n",
            "embedding_8 (Embedding)      (None, 128, 4)            40000     \n",
            "_________________________________________________________________\n",
            "flatten_8 (Flatten)          (None, 512)               0         \n",
            "_________________________________________________________________\n",
            "dropout_7 (Dropout)          (None, 512)               0         \n",
            "_________________________________________________________________\n",
            "dense_20 (Dense)             (None, 16)                8208      \n",
            "_________________________________________________________________\n",
            "dense_21 (Dense)             (None, 8)                 136       \n",
            "_________________________________________________________________\n",
            "dense_22 (Dense)             (None, 2)                 18        \n",
            "=================================================================\n",
            "Total params: 48,362\n",
            "Trainable params: 48,362\n",
            "Non-trainable params: 0\n",
            "_________________________________________________________________\n"
          ],
          "name": "stdout"
        }
      ]
    },
    {
      "cell_type": "code",
      "metadata": {
        "id": "JA1rTuovyMBv",
        "outputId": "a222cb00-9c28-49d9-b39d-8f8868bc7033",
        "colab": {
          "base_uri": "https://localhost:8080/",
          "height": 70
        }
      },
      "source": [
        "results = emb_model.evaluate(X_test_seq_trunc, y_test_oh)\n",
        "print('/n')\n",
        "print('Test accuracy of word embeddings model: {0:.2f}%'.format(emb_results[1]*100))"
      ],
      "execution_count": null,
      "outputs": [
        {
          "output_type": "stream",
          "text": [
            "157/157 [==============================] - 0s 1ms/step - loss: 0.3359 - accuracy: 0.8844\n",
            "/n\n",
            "Test accuracy of word embeddings model: 88.38%\n"
          ],
          "name": "stdout"
        }
      ]
    },
    {
      "cell_type": "code",
      "metadata": {
        "id": "7BdKlWhqzANN",
        "outputId": "0fa01783-cfc1-4437-82b7-12433ec5aefe",
        "colab": {
          "base_uri": "https://localhost:8080/",
          "height": 1000
        }
      },
      "source": [
        "## CHANGED LEARNING RATE  IN THIS HYPERPARAMETER TUNING KEEPING BATCH SIZE 64\n",
        "\n",
        "import tensorflow_hub as hub\n",
        "import tensorflow as tf\n",
        "from tensorflow.keras.models import Sequential\n",
        "from tensorflow.keras import layers\n",
        "from tensorflow.keras import regularizers\n",
        "#from keras import models\n",
        "#from keras import layers\n",
        "#from keras import regularizers\n",
        "\n",
        "hub_layer = hub.KerasLayer(\"https://tfhub.dev/google/nnlm-en-dim128/2\",\n",
        "                           input_shape=[] ,dtype=tf.string,trainable=True)\n",
        "\n",
        "hub_layer(X_train)\n",
        "\n",
        "emb_model = Sequential()\n",
        "\n",
        "emb_model.add(layers.Embedding(NB_WORDS,4, input_length=MAX_LEN))\n",
        "emb_model.add(layers.Flatten())\n",
        "emb_model.add(layers.Dropout(0.3))\n",
        "emb_model.add(layers.Dense(16, activation = 'relu',kernel_regularizer = regularizers.l2(0.001)))\n",
        "#emb_model.add(layers.Dropout(0.2))\n",
        "#emb_model.add(layers.Dense(30, activation = 'relu',kernel_regularizer = regularizers.l2(0.001)))\n",
        "emb_model.add(layers.Dense(8, activation = 'relu',kernel_regularizer = regularizers.l2(0.001)))\n",
        "emb_model.add(layers.Dense(2, activation='softmax'))\n",
        "emb_model.compile(optimizer=optimizers.RMSprop(learning_rate=0.01,momentum=0)\n",
        "                  , loss='categorical_crossentropy'\n",
        "                  , metrics=['accuracy'])\n",
        "import time\n",
        "start_time = time.time()\n",
        "    \n",
        "emb_history = emb_model.fit(X_train_emb\n",
        "                       , y_train_emb\n",
        "                       , epochs=NB_START_EPOCHS\n",
        "                       , batch_size=64\n",
        "                       , validation_data=(X_valid_emb, y_valid_emb)\n",
        "                       , verbose=1)\n",
        "end_time = time.time()\n",
        "#emb_history = deep_model(emb_model, X_train_emb, y_train_emb, X_valid_emb, y_valid_emb)\n",
        "\n",
        "\n",
        "emb_model.summary()"
      ],
      "execution_count": null,
      "outputs": [
        {
          "output_type": "stream",
          "text": [
            "WARNING:tensorflow:11 out of the last 11 calls to <function recreate_function.<locals>.restored_function_body at 0x7fca880fa510> triggered tf.function retracing. Tracing is expensive and the excessive number of tracings could be due to (1) creating @tf.function repeatedly in a loop, (2) passing tensors with different shapes, (3) passing Python objects instead of tensors. For (1), please define your @tf.function outside of the loop. For (2), @tf.function has experimental_relax_shapes=True option that relaxes argument shapes that can avoid unnecessary retracing. For (3), please refer to https://www.tensorflow.org/tutorials/customization/performance#python_or_tensor_args and https://www.tensorflow.org/api_docs/python/tf/function for  more details.\n"
          ],
          "name": "stdout"
        },
        {
          "output_type": "stream",
          "text": [
            "WARNING:tensorflow:11 out of the last 11 calls to <function recreate_function.<locals>.restored_function_body at 0x7fca880fa510> triggered tf.function retracing. Tracing is expensive and the excessive number of tracings could be due to (1) creating @tf.function repeatedly in a loop, (2) passing tensors with different shapes, (3) passing Python objects instead of tensors. For (1), please define your @tf.function outside of the loop. For (2), @tf.function has experimental_relax_shapes=True option that relaxes argument shapes that can avoid unnecessary retracing. For (3), please refer to https://www.tensorflow.org/tutorials/customization/performance#python_or_tensor_args and https://www.tensorflow.org/api_docs/python/tf/function for  more details.\n"
          ],
          "name": "stderr"
        },
        {
          "output_type": "stream",
          "text": [
            "WARNING:tensorflow:11 out of the last 11 calls to <function recreate_function.<locals>.restored_function_body at 0x7fca88158a60> triggered tf.function retracing. Tracing is expensive and the excessive number of tracings could be due to (1) creating @tf.function repeatedly in a loop, (2) passing tensors with different shapes, (3) passing Python objects instead of tensors. For (1), please define your @tf.function outside of the loop. For (2), @tf.function has experimental_relax_shapes=True option that relaxes argument shapes that can avoid unnecessary retracing. For (3), please refer to https://www.tensorflow.org/tutorials/customization/performance#python_or_tensor_args and https://www.tensorflow.org/api_docs/python/tf/function for  more details.\n"
          ],
          "name": "stdout"
        },
        {
          "output_type": "stream",
          "text": [
            "WARNING:tensorflow:11 out of the last 11 calls to <function recreate_function.<locals>.restored_function_body at 0x7fca88158a60> triggered tf.function retracing. Tracing is expensive and the excessive number of tracings could be due to (1) creating @tf.function repeatedly in a loop, (2) passing tensors with different shapes, (3) passing Python objects instead of tensors. For (1), please define your @tf.function outside of the loop. For (2), @tf.function has experimental_relax_shapes=True option that relaxes argument shapes that can avoid unnecessary retracing. For (3), please refer to https://www.tensorflow.org/tutorials/customization/performance#python_or_tensor_args and https://www.tensorflow.org/api_docs/python/tf/function for  more details.\n"
          ],
          "name": "stderr"
        },
        {
          "output_type": "stream",
          "text": [
            "WARNING:tensorflow:11 out of the last 11 calls to <function recreate_function.<locals>.restored_function_body at 0x7fca8ea03b70> triggered tf.function retracing. Tracing is expensive and the excessive number of tracings could be due to (1) creating @tf.function repeatedly in a loop, (2) passing tensors with different shapes, (3) passing Python objects instead of tensors. For (1), please define your @tf.function outside of the loop. For (2), @tf.function has experimental_relax_shapes=True option that relaxes argument shapes that can avoid unnecessary retracing. For (3), please refer to https://www.tensorflow.org/tutorials/customization/performance#python_or_tensor_args and https://www.tensorflow.org/api_docs/python/tf/function for  more details.\n"
          ],
          "name": "stdout"
        },
        {
          "output_type": "stream",
          "text": [
            "WARNING:tensorflow:11 out of the last 11 calls to <function recreate_function.<locals>.restored_function_body at 0x7fca8ea03b70> triggered tf.function retracing. Tracing is expensive and the excessive number of tracings could be due to (1) creating @tf.function repeatedly in a loop, (2) passing tensors with different shapes, (3) passing Python objects instead of tensors. For (1), please define your @tf.function outside of the loop. For (2), @tf.function has experimental_relax_shapes=True option that relaxes argument shapes that can avoid unnecessary retracing. For (3), please refer to https://www.tensorflow.org/tutorials/customization/performance#python_or_tensor_args and https://www.tensorflow.org/api_docs/python/tf/function for  more details.\n"
          ],
          "name": "stderr"
        },
        {
          "output_type": "stream",
          "text": [
            "Epoch 1/20\n",
            "633/633 [==============================] - 2s 3ms/step - loss: 0.3930 - accuracy: 0.8353 - val_loss: 0.3106 - val_accuracy: 0.8807\n",
            "Epoch 2/20\n",
            "633/633 [==============================] - 2s 3ms/step - loss: 0.2848 - accuracy: 0.8946 - val_loss: 0.2965 - val_accuracy: 0.8900\n",
            "Epoch 3/20\n",
            "633/633 [==============================] - 2s 3ms/step - loss: 0.2594 - accuracy: 0.9057 - val_loss: 0.3005 - val_accuracy: 0.8880\n",
            "Epoch 4/20\n",
            "633/633 [==============================] - 2s 3ms/step - loss: 0.2434 - accuracy: 0.9125 - val_loss: 0.3054 - val_accuracy: 0.8862\n",
            "Epoch 5/20\n",
            "633/633 [==============================] - 2s 3ms/step - loss: 0.2326 - accuracy: 0.9177 - val_loss: 0.3143 - val_accuracy: 0.8807\n",
            "Epoch 6/20\n",
            "633/633 [==============================] - 2s 3ms/step - loss: 0.2254 - accuracy: 0.9207 - val_loss: 0.3135 - val_accuracy: 0.8876\n",
            "Epoch 7/20\n",
            "633/633 [==============================] - 2s 3ms/step - loss: 0.2209 - accuracy: 0.9229 - val_loss: 0.2970 - val_accuracy: 0.8851\n",
            "Epoch 8/20\n",
            "633/633 [==============================] - 2s 3ms/step - loss: 0.2135 - accuracy: 0.9269 - val_loss: 0.3209 - val_accuracy: 0.8787\n",
            "Epoch 9/20\n",
            "633/633 [==============================] - 2s 3ms/step - loss: 0.2105 - accuracy: 0.9279 - val_loss: 0.3145 - val_accuracy: 0.8827\n",
            "Epoch 10/20\n",
            "633/633 [==============================] - 2s 3ms/step - loss: 0.2074 - accuracy: 0.9310 - val_loss: 0.3146 - val_accuracy: 0.8833\n",
            "Epoch 11/20\n",
            "633/633 [==============================] - 2s 3ms/step - loss: 0.2020 - accuracy: 0.9312 - val_loss: 0.3225 - val_accuracy: 0.8798\n",
            "Epoch 12/20\n",
            "633/633 [==============================] - 2s 3ms/step - loss: 0.1953 - accuracy: 0.9352 - val_loss: 0.3285 - val_accuracy: 0.8778\n",
            "Epoch 13/20\n",
            "633/633 [==============================] - 2s 3ms/step - loss: 0.1921 - accuracy: 0.9347 - val_loss: 0.3223 - val_accuracy: 0.8791\n",
            "Epoch 14/20\n",
            "633/633 [==============================] - 2s 3ms/step - loss: 0.1922 - accuracy: 0.9358 - val_loss: 0.3158 - val_accuracy: 0.8793\n",
            "Epoch 15/20\n",
            "633/633 [==============================] - 2s 3ms/step - loss: 0.1895 - accuracy: 0.9370 - val_loss: 0.3227 - val_accuracy: 0.8778\n",
            "Epoch 16/20\n",
            "633/633 [==============================] - 2s 3ms/step - loss: 0.1835 - accuracy: 0.9395 - val_loss: 0.3286 - val_accuracy: 0.8798\n",
            "Epoch 17/20\n",
            "633/633 [==============================] - 2s 3ms/step - loss: 0.1818 - accuracy: 0.9418 - val_loss: 0.3371 - val_accuracy: 0.8731\n",
            "Epoch 18/20\n",
            "633/633 [==============================] - 2s 3ms/step - loss: 0.1798 - accuracy: 0.9425 - val_loss: 0.3465 - val_accuracy: 0.8780\n",
            "Epoch 19/20\n",
            "633/633 [==============================] - 2s 3ms/step - loss: 0.1842 - accuracy: 0.9403 - val_loss: 0.3405 - val_accuracy: 0.8809\n",
            "Epoch 20/20\n",
            "633/633 [==============================] - 2s 3ms/step - loss: 0.1776 - accuracy: 0.9420 - val_loss: 0.3249 - val_accuracy: 0.8764\n",
            "Model: \"sequential_9\"\n",
            "_________________________________________________________________\n",
            "Layer (type)                 Output Shape              Param #   \n",
            "=================================================================\n",
            "embedding_9 (Embedding)      (None, 128, 4)            40000     \n",
            "_________________________________________________________________\n",
            "flatten_9 (Flatten)          (None, 512)               0         \n",
            "_________________________________________________________________\n",
            "dropout_8 (Dropout)          (None, 512)               0         \n",
            "_________________________________________________________________\n",
            "dense_23 (Dense)             (None, 16)                8208      \n",
            "_________________________________________________________________\n",
            "dense_24 (Dense)             (None, 8)                 136       \n",
            "_________________________________________________________________\n",
            "dense_25 (Dense)             (None, 2)                 18        \n",
            "=================================================================\n",
            "Total params: 48,362\n",
            "Trainable params: 48,362\n",
            "Non-trainable params: 0\n",
            "_________________________________________________________________\n"
          ],
          "name": "stdout"
        }
      ]
    },
    {
      "cell_type": "code",
      "metadata": {
        "id": "LEY8eIxb6AAt",
        "outputId": "d61ef7d9-7acd-4079-9c23-26e1f59cfd1a",
        "colab": {
          "base_uri": "https://localhost:8080/",
          "height": 70
        }
      },
      "source": [
        "results = emb_model.evaluate(X_test_seq_trunc, y_test_oh)\n",
        "print('/n')\n",
        "print('Test accuracy of word embeddings model: {0:.2f}%'.format(results[1]*100))"
      ],
      "execution_count": null,
      "outputs": [
        {
          "output_type": "stream",
          "text": [
            "157/157 [==============================] - 0s 1ms/step - loss: 0.3258 - accuracy: 0.8850\n",
            "/n\n",
            "Test accuracy of word embeddings model: 88.50%\n"
          ],
          "name": "stdout"
        }
      ]
    },
    {
      "cell_type": "code",
      "metadata": {
        "id": "jl_YdpKm6Ht5",
        "outputId": "27bc5e24-7b5a-4c9e-ea4e-152bfbc93f49",
        "colab": {
          "base_uri": "https://localhost:8080/",
          "height": 1000
        }
      },
      "source": [
        "## CHANGED LEARNING RATE  IN THIS HYPERPARAMETER TUNING KEEPING BATCH SIZE 64 AND training without regularisation\n",
        "\n",
        "import tensorflow_hub as hub\n",
        "import tensorflow as tf\n",
        "from tensorflow.keras.models import Sequential\n",
        "from tensorflow.keras import layers\n",
        "from tensorflow.keras import regularizers\n",
        "#from keras import models\n",
        "#from keras import layers\n",
        "#from keras import regularizers\n",
        "\n",
        "hub_layer = hub.KerasLayer(\"https://tfhub.dev/google/nnlm-en-dim128/2\",\n",
        "                           input_shape=[] ,dtype=tf.string,trainable=True)\n",
        "\n",
        "hub_layer(X_train)\n",
        "\n",
        "emb_model = Sequential()\n",
        "\n",
        "emb_model.add(layers.Embedding(NB_WORDS,4, input_length=MAX_LEN))\n",
        "emb_model.add(layers.Flatten())\n",
        "emb_model.add(layers.Dropout(0.3))\n",
        "emb_model.add(layers.Dense(60, activation = 'relu'))\n",
        "#emb_model.add(layers.Dropout(0.2))\n",
        "emb_model.add(layers.Dense(30, activation = 'relu'))\n",
        "emb_model.add(layers.Dense(16, activation = 'relu'))\n",
        "emb_model.add(layers.Dense(2, activation='softmax'))\n",
        "emb_model.compile(optimizer=optimizers.RMSprop(learning_rate=0.01,momentum=0)\n",
        "                  , loss='categorical_crossentropy'\n",
        "                  , metrics=['accuracy'])\n",
        "import time\n",
        "start_time = time.time()\n",
        "    \n",
        "emb_history = emb_model.fit(X_train_emb\n",
        "                       , y_train_emb\n",
        "                       , epochs=NB_START_EPOCHS\n",
        "                       , batch_size=64\n",
        "                       , validation_data=(X_valid_emb, y_valid_emb)\n",
        "                       , verbose=1)\n",
        "end_time = time.time()\n",
        "#emb_history = deep_model(emb_model, X_train_emb, y_train_emb, X_valid_emb, y_valid_emb)\n",
        "\n",
        "\n",
        "emb_model.summary()"
      ],
      "execution_count": null,
      "outputs": [
        {
          "output_type": "stream",
          "text": [
            "WARNING:tensorflow:11 out of the last 11 calls to <function recreate_function.<locals>.restored_function_body at 0x7fca99af4378> triggered tf.function retracing. Tracing is expensive and the excessive number of tracings could be due to (1) creating @tf.function repeatedly in a loop, (2) passing tensors with different shapes, (3) passing Python objects instead of tensors. For (1), please define your @tf.function outside of the loop. For (2), @tf.function has experimental_relax_shapes=True option that relaxes argument shapes that can avoid unnecessary retracing. For (3), please refer to https://www.tensorflow.org/tutorials/customization/performance#python_or_tensor_args and https://www.tensorflow.org/api_docs/python/tf/function for  more details.\n"
          ],
          "name": "stdout"
        },
        {
          "output_type": "stream",
          "text": [
            "WARNING:tensorflow:11 out of the last 11 calls to <function recreate_function.<locals>.restored_function_body at 0x7fca99af4378> triggered tf.function retracing. Tracing is expensive and the excessive number of tracings could be due to (1) creating @tf.function repeatedly in a loop, (2) passing tensors with different shapes, (3) passing Python objects instead of tensors. For (1), please define your @tf.function outside of the loop. For (2), @tf.function has experimental_relax_shapes=True option that relaxes argument shapes that can avoid unnecessary retracing. For (3), please refer to https://www.tensorflow.org/tutorials/customization/performance#python_or_tensor_args and https://www.tensorflow.org/api_docs/python/tf/function for  more details.\n"
          ],
          "name": "stderr"
        },
        {
          "output_type": "stream",
          "text": [
            "WARNING:tensorflow:11 out of the last 11 calls to <function recreate_function.<locals>.restored_function_body at 0x7fca99af4840> triggered tf.function retracing. Tracing is expensive and the excessive number of tracings could be due to (1) creating @tf.function repeatedly in a loop, (2) passing tensors with different shapes, (3) passing Python objects instead of tensors. For (1), please define your @tf.function outside of the loop. For (2), @tf.function has experimental_relax_shapes=True option that relaxes argument shapes that can avoid unnecessary retracing. For (3), please refer to https://www.tensorflow.org/tutorials/customization/performance#python_or_tensor_args and https://www.tensorflow.org/api_docs/python/tf/function for  more details.\n"
          ],
          "name": "stdout"
        },
        {
          "output_type": "stream",
          "text": [
            "WARNING:tensorflow:11 out of the last 11 calls to <function recreate_function.<locals>.restored_function_body at 0x7fca99af4840> triggered tf.function retracing. Tracing is expensive and the excessive number of tracings could be due to (1) creating @tf.function repeatedly in a loop, (2) passing tensors with different shapes, (3) passing Python objects instead of tensors. For (1), please define your @tf.function outside of the loop. For (2), @tf.function has experimental_relax_shapes=True option that relaxes argument shapes that can avoid unnecessary retracing. For (3), please refer to https://www.tensorflow.org/tutorials/customization/performance#python_or_tensor_args and https://www.tensorflow.org/api_docs/python/tf/function for  more details.\n"
          ],
          "name": "stderr"
        },
        {
          "output_type": "stream",
          "text": [
            "WARNING:tensorflow:11 out of the last 11 calls to <function recreate_function.<locals>.restored_function_body at 0x7fca99aef400> triggered tf.function retracing. Tracing is expensive and the excessive number of tracings could be due to (1) creating @tf.function repeatedly in a loop, (2) passing tensors with different shapes, (3) passing Python objects instead of tensors. For (1), please define your @tf.function outside of the loop. For (2), @tf.function has experimental_relax_shapes=True option that relaxes argument shapes that can avoid unnecessary retracing. For (3), please refer to https://www.tensorflow.org/tutorials/customization/performance#python_or_tensor_args and https://www.tensorflow.org/api_docs/python/tf/function for  more details.\n"
          ],
          "name": "stdout"
        },
        {
          "output_type": "stream",
          "text": [
            "WARNING:tensorflow:11 out of the last 11 calls to <function recreate_function.<locals>.restored_function_body at 0x7fca99aef400> triggered tf.function retracing. Tracing is expensive and the excessive number of tracings could be due to (1) creating @tf.function repeatedly in a loop, (2) passing tensors with different shapes, (3) passing Python objects instead of tensors. For (1), please define your @tf.function outside of the loop. For (2), @tf.function has experimental_relax_shapes=True option that relaxes argument shapes that can avoid unnecessary retracing. For (3), please refer to https://www.tensorflow.org/tutorials/customization/performance#python_or_tensor_args and https://www.tensorflow.org/api_docs/python/tf/function for  more details.\n"
          ],
          "name": "stderr"
        },
        {
          "output_type": "stream",
          "text": [
            "Epoch 1/20\n",
            "633/633 [==============================] - 2s 4ms/step - loss: 0.3859 - accuracy: 0.8178 - val_loss: 0.2737 - val_accuracy: 0.8851\n",
            "Epoch 2/20\n",
            "633/633 [==============================] - 2s 3ms/step - loss: 0.2640 - accuracy: 0.8942 - val_loss: 0.2704 - val_accuracy: 0.8856\n",
            "Epoch 3/20\n",
            "633/633 [==============================] - 2s 3ms/step - loss: 0.2276 - accuracy: 0.9106 - val_loss: 0.2908 - val_accuracy: 0.8816\n",
            "Epoch 4/20\n",
            "633/633 [==============================] - 2s 3ms/step - loss: 0.2059 - accuracy: 0.9212 - val_loss: 0.2905 - val_accuracy: 0.8849\n",
            "Epoch 5/20\n",
            "633/633 [==============================] - 2s 3ms/step - loss: 0.1927 - accuracy: 0.9266 - val_loss: 0.2899 - val_accuracy: 0.8902\n",
            "Epoch 6/20\n",
            "633/633 [==============================] - 2s 3ms/step - loss: 0.1798 - accuracy: 0.9327 - val_loss: 0.2902 - val_accuracy: 0.8831\n",
            "Epoch 7/20\n",
            "633/633 [==============================] - 2s 3ms/step - loss: 0.1691 - accuracy: 0.9380 - val_loss: 0.3303 - val_accuracy: 0.8811\n",
            "Epoch 8/20\n",
            "633/633 [==============================] - 2s 3ms/step - loss: 0.1665 - accuracy: 0.9386 - val_loss: 0.3088 - val_accuracy: 0.8802\n",
            "Epoch 9/20\n",
            "633/633 [==============================] - 2s 3ms/step - loss: 0.1562 - accuracy: 0.9446 - val_loss: 0.3082 - val_accuracy: 0.8782\n",
            "Epoch 10/20\n",
            "633/633 [==============================] - 2s 3ms/step - loss: 0.1499 - accuracy: 0.9465 - val_loss: 0.3830 - val_accuracy: 0.8778\n",
            "Epoch 11/20\n",
            "633/633 [==============================] - 2s 3ms/step - loss: 0.1475 - accuracy: 0.9475 - val_loss: 0.3117 - val_accuracy: 0.8782\n",
            "Epoch 12/20\n",
            "633/633 [==============================] - 2s 3ms/step - loss: 0.1452 - accuracy: 0.9503 - val_loss: 0.3486 - val_accuracy: 0.8776\n",
            "Epoch 13/20\n",
            "633/633 [==============================] - 2s 3ms/step - loss: 0.1386 - accuracy: 0.9508 - val_loss: 0.3715 - val_accuracy: 0.8684\n",
            "Epoch 14/20\n",
            "633/633 [==============================] - 2s 3ms/step - loss: 0.1338 - accuracy: 0.9538 - val_loss: 0.3641 - val_accuracy: 0.8713\n",
            "Epoch 15/20\n",
            "633/633 [==============================] - 2s 3ms/step - loss: 0.1358 - accuracy: 0.9539 - val_loss: 0.4791 - val_accuracy: 0.8742\n",
            "Epoch 16/20\n",
            "633/633 [==============================] - 2s 3ms/step - loss: 0.1421 - accuracy: 0.9530 - val_loss: 0.3860 - val_accuracy: 0.8742\n",
            "Epoch 17/20\n",
            "633/633 [==============================] - 2s 3ms/step - loss: 0.1330 - accuracy: 0.9560 - val_loss: 1.1872 - val_accuracy: 0.8742\n",
            "Epoch 18/20\n",
            "633/633 [==============================] - 2s 3ms/step - loss: 0.1525 - accuracy: 0.9563 - val_loss: 0.4749 - val_accuracy: 0.8680\n",
            "Epoch 19/20\n",
            "633/633 [==============================] - 2s 3ms/step - loss: 0.1320 - accuracy: 0.9579 - val_loss: 0.4109 - val_accuracy: 0.8722\n",
            "Epoch 20/20\n",
            "633/633 [==============================] - 2s 3ms/step - loss: 0.1272 - accuracy: 0.9580 - val_loss: 0.7485 - val_accuracy: 0.8629\n",
            "Model: \"sequential_10\"\n",
            "_________________________________________________________________\n",
            "Layer (type)                 Output Shape              Param #   \n",
            "=================================================================\n",
            "embedding_10 (Embedding)     (None, 128, 4)            40000     \n",
            "_________________________________________________________________\n",
            "flatten_10 (Flatten)         (None, 512)               0         \n",
            "_________________________________________________________________\n",
            "dropout_9 (Dropout)          (None, 512)               0         \n",
            "_________________________________________________________________\n",
            "dense_26 (Dense)             (None, 60)                30780     \n",
            "_________________________________________________________________\n",
            "dense_27 (Dense)             (None, 30)                1830      \n",
            "_________________________________________________________________\n",
            "dense_28 (Dense)             (None, 16)                496       \n",
            "_________________________________________________________________\n",
            "dense_29 (Dense)             (None, 2)                 34        \n",
            "=================================================================\n",
            "Total params: 73,140\n",
            "Trainable params: 73,140\n",
            "Non-trainable params: 0\n",
            "_________________________________________________________________\n"
          ],
          "name": "stdout"
        }
      ]
    },
    {
      "cell_type": "code",
      "metadata": {
        "id": "2zDuQuMC6rg9",
        "outputId": "c8a38e8e-844f-4b6c-ed59-910fbdb407c0",
        "colab": {
          "base_uri": "https://localhost:8080/",
          "height": 70
        }
      },
      "source": [
        "results = emb_model.evaluate(X_test_seq_trunc, y_test_oh)\n",
        "print('/n')\n",
        "print('Test accuracy of word embeddings model: {0:.2f}%'.format(results[1]*100))"
      ],
      "execution_count": null,
      "outputs": [
        {
          "output_type": "stream",
          "text": [
            "157/157 [==============================] - 0s 1ms/step - loss: 0.6626 - accuracy: 0.8690\n",
            "/n\n",
            "Test accuracy of word embeddings model: 86.90%\n"
          ],
          "name": "stdout"
        }
      ]
    },
    {
      "cell_type": "markdown",
      "metadata": {
        "id": "wam4b0zPL7xe"
      },
      "source": [
        "**MODEL CREATION USING PRETRAINED WEIGHTS **"
      ]
    },
    {
      "cell_type": "code",
      "metadata": {
        "id": "cnuhIy7TxNYc",
        "outputId": "d17f1d96-c661-47c4-bd3a-4b729faeffb4",
        "colab": {
          "base_uri": "https://localhost:8080/",
          "height": 890
        }
      },
      "source": [
        "\n",
        "\n",
        "hub_layer = hub.KerasLayer(\"https://tfhub.dev/google/nnlm-en-dim128/2\",\n",
        "                           input_shape=[], dtype=tf.string)\n",
        "\n",
        "# if I add hub layer then i get shape error ,\n",
        "#embedded = hub_layer(tf.reshape(df.review[:10000]))\n",
        "embedded=hub_layer(df.review[:10000])\n",
        "#embedded=tf.reshape(embedded,[:4])\n",
        "#embedded = hub_layer(df.review[:10000])\n",
        "print(embedded)\n",
        "embedding_layer = layers.Embedding(10000,\n",
        "                            128,\n",
        "                            weights=[embedded],\n",
        "                            input_length=MAX_LEN,\n",
        "                            trainable=False)\n",
        "\n",
        "emb_model = Sequential()\n",
        "emb_model.add(embedding_layer)\n",
        "emb_model.add(layers.Flatten())\n",
        "emb_model.add(layers.Dropout(0.3))\n",
        "emb_model.add(layers.Dense(8, activation = 'relu'))\n",
        "emb_model.add(layers.Dense(2, activation='softmax'))\n",
        "emb_model.compile(optimizer=optimizers.RMSprop(learning_rate=0.01,momentum=.25)\n",
        "                  , loss='categorical_crossentropy'\n",
        "                  , metrics=['accuracy'])\n",
        "import time\n",
        "start_time = time.time()\n",
        "    \n",
        "emb_history = emb_model.fit(X_train_emb\n",
        "                       , y_train_emb\n",
        "                       , epochs=5\n",
        "                       , batch_size=64\n",
        "                       , validation_data=(X_valid_emb, y_valid_emb)\n",
        "                       , verbose=1)\n",
        "end_time = time.time()\n",
        "#emb_history = deep_model(emb_model, X_train_emb, y_train_emb, X_valid_emb, y_valid_emb)\n",
        "\n",
        "\n",
        "emb_model.summary()"
      ],
      "execution_count": null,
      "outputs": [
        {
          "output_type": "stream",
          "text": [
            "WARNING:tensorflow:11 out of the last 11 calls to <function recreate_function.<locals>.restored_function_body at 0x7fcaa3ac5620> triggered tf.function retracing. Tracing is expensive and the excessive number of tracings could be due to (1) creating @tf.function repeatedly in a loop, (2) passing tensors with different shapes, (3) passing Python objects instead of tensors. For (1), please define your @tf.function outside of the loop. For (2), @tf.function has experimental_relax_shapes=True option that relaxes argument shapes that can avoid unnecessary retracing. For (3), please refer to https://www.tensorflow.org/tutorials/customization/performance#python_or_tensor_args and https://www.tensorflow.org/api_docs/python/tf/function for  more details.\n"
          ],
          "name": "stdout"
        },
        {
          "output_type": "stream",
          "text": [
            "WARNING:tensorflow:11 out of the last 11 calls to <function recreate_function.<locals>.restored_function_body at 0x7fcaa3ac5620> triggered tf.function retracing. Tracing is expensive and the excessive number of tracings could be due to (1) creating @tf.function repeatedly in a loop, (2) passing tensors with different shapes, (3) passing Python objects instead of tensors. For (1), please define your @tf.function outside of the loop. For (2), @tf.function has experimental_relax_shapes=True option that relaxes argument shapes that can avoid unnecessary retracing. For (3), please refer to https://www.tensorflow.org/tutorials/customization/performance#python_or_tensor_args and https://www.tensorflow.org/api_docs/python/tf/function for  more details.\n"
          ],
          "name": "stderr"
        },
        {
          "output_type": "stream",
          "text": [
            "WARNING:tensorflow:11 out of the last 11 calls to <function recreate_function.<locals>.restored_function_body at 0x7fcaa3ac5b70> triggered tf.function retracing. Tracing is expensive and the excessive number of tracings could be due to (1) creating @tf.function repeatedly in a loop, (2) passing tensors with different shapes, (3) passing Python objects instead of tensors. For (1), please define your @tf.function outside of the loop. For (2), @tf.function has experimental_relax_shapes=True option that relaxes argument shapes that can avoid unnecessary retracing. For (3), please refer to https://www.tensorflow.org/tutorials/customization/performance#python_or_tensor_args and https://www.tensorflow.org/api_docs/python/tf/function for  more details.\n"
          ],
          "name": "stdout"
        },
        {
          "output_type": "stream",
          "text": [
            "WARNING:tensorflow:11 out of the last 11 calls to <function recreate_function.<locals>.restored_function_body at 0x7fcaa3ac5b70> triggered tf.function retracing. Tracing is expensive and the excessive number of tracings could be due to (1) creating @tf.function repeatedly in a loop, (2) passing tensors with different shapes, (3) passing Python objects instead of tensors. For (1), please define your @tf.function outside of the loop. For (2), @tf.function has experimental_relax_shapes=True option that relaxes argument shapes that can avoid unnecessary retracing. For (3), please refer to https://www.tensorflow.org/tutorials/customization/performance#python_or_tensor_args and https://www.tensorflow.org/api_docs/python/tf/function for  more details.\n"
          ],
          "name": "stderr"
        },
        {
          "output_type": "stream",
          "text": [
            "WARNING:tensorflow:11 out of the last 11 calls to <function recreate_function.<locals>.restored_function_body at 0x7fca8d6c5c80> triggered tf.function retracing. Tracing is expensive and the excessive number of tracings could be due to (1) creating @tf.function repeatedly in a loop, (2) passing tensors with different shapes, (3) passing Python objects instead of tensors. For (1), please define your @tf.function outside of the loop. For (2), @tf.function has experimental_relax_shapes=True option that relaxes argument shapes that can avoid unnecessary retracing. For (3), please refer to https://www.tensorflow.org/tutorials/customization/performance#python_or_tensor_args and https://www.tensorflow.org/api_docs/python/tf/function for  more details.\n"
          ],
          "name": "stdout"
        },
        {
          "output_type": "stream",
          "text": [
            "WARNING:tensorflow:11 out of the last 11 calls to <function recreate_function.<locals>.restored_function_body at 0x7fca8d6c5c80> triggered tf.function retracing. Tracing is expensive and the excessive number of tracings could be due to (1) creating @tf.function repeatedly in a loop, (2) passing tensors with different shapes, (3) passing Python objects instead of tensors. For (1), please define your @tf.function outside of the loop. For (2), @tf.function has experimental_relax_shapes=True option that relaxes argument shapes that can avoid unnecessary retracing. For (3), please refer to https://www.tensorflow.org/tutorials/customization/performance#python_or_tensor_args and https://www.tensorflow.org/api_docs/python/tf/function for  more details.\n"
          ],
          "name": "stderr"
        },
        {
          "output_type": "stream",
          "text": [
            "tf.Tensor(\n",
            "[[ 0.2286596   0.1567697   0.04163042 ... -0.05484968  0.09114031\n",
            "   0.18645424]\n",
            " [ 0.24344252 -0.00834238  0.09855147 ... -0.34181222  0.14829344\n",
            "   0.2064092 ]\n",
            " [ 0.28259435  0.10403575  0.09568932 ... -0.17417295  0.15409155\n",
            "   0.11913329]\n",
            " ...\n",
            " [-0.24940245  0.10744675  0.01557767 ... -0.07574641  0.0377127\n",
            "   0.02313053]\n",
            " [-0.03606247  0.07361308 -0.05847034 ... -0.3309123   0.08151184\n",
            "  -0.1181119 ]\n",
            " [ 0.25184613  0.06969944 -0.03010845 ... -0.48930988  0.33697847\n",
            "   0.18310215]], shape=(10000, 128), dtype=float32)\n",
            "Epoch 1/5\n",
            "633/633 [==============================] - 14s 22ms/step - loss: 0.7393 - accuracy: 0.5013 - val_loss: 0.6946 - val_accuracy: 0.4960\n",
            "Epoch 2/5\n",
            "633/633 [==============================] - 13s 21ms/step - loss: 0.6935 - accuracy: 0.5001 - val_loss: 0.6932 - val_accuracy: 0.5040\n",
            "Epoch 3/5\n",
            "633/633 [==============================] - 13s 21ms/step - loss: 0.6935 - accuracy: 0.5023 - val_loss: 0.6934 - val_accuracy: 0.4960\n",
            "Epoch 4/5\n",
            "633/633 [==============================] - 13s 21ms/step - loss: 0.6935 - accuracy: 0.5021 - val_loss: 0.6931 - val_accuracy: 0.5040\n",
            "Epoch 5/5\n",
            "633/633 [==============================] - 13s 21ms/step - loss: 0.6937 - accuracy: 0.4976 - val_loss: 0.6931 - val_accuracy: 0.5040\n",
            "Model: \"sequential_6\"\n",
            "_________________________________________________________________\n",
            "Layer (type)                 Output Shape              Param #   \n",
            "=================================================================\n",
            "embedding_6 (Embedding)      (None, 128, 128)          1280000   \n",
            "_________________________________________________________________\n",
            "flatten_6 (Flatten)          (None, 16384)             0         \n",
            "_________________________________________________________________\n",
            "dropout_5 (Dropout)          (None, 16384)             0         \n",
            "_________________________________________________________________\n",
            "dense_15 (Dense)             (None, 8)                 131080    \n",
            "_________________________________________________________________\n",
            "dense_16 (Dense)             (None, 2)                 18        \n",
            "=================================================================\n",
            "Total params: 1,411,098\n",
            "Trainable params: 131,098\n",
            "Non-trainable params: 1,280,000\n",
            "_________________________________________________________________\n"
          ],
          "name": "stdout"
        }
      ]
    },
    {
      "cell_type": "code",
      "metadata": {
        "id": "eSGG6SXZ1aHu",
        "outputId": "461a70fc-41fe-4d75-f80b-74ff1ce0eb01",
        "colab": {
          "base_uri": "https://localhost:8080/",
          "height": 70
        }
      },
      "source": [
        "#emb_results = test_model(emb_model, X_train_seq_trunc, y_train_oh, X_test_seq_trunc, y_test_oh, 6)\n",
        "\n",
        "results = emb_model.evaluate(X_test_seq_trunc, y_test_oh)\n",
        "print('/n')\n",
        "print('Test accuracy of word embeddings model: {0:.2f}%'.format(results[1]*100))"
      ],
      "execution_count": null,
      "outputs": [
        {
          "output_type": "stream",
          "text": [
            "157/157 [==============================] - 0s 2ms/step - loss: 0.6932 - accuracy: 0.4980\n",
            "/n\n",
            "Test accuracy of word embeddings model: 49.80%\n"
          ],
          "name": "stdout"
        }
      ]
    }
  ]
}